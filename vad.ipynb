{
 "cells": [
  {
   "cell_type": "code",
   "execution_count": 22,
   "metadata": {},
   "outputs": [],
   "source": [
    "# coding = utf-8\n",
    "\"\"\"\n",
    "Created on Tue May  1 20:43:28 2018\n",
    "@author: eesungkim\n",
    "\"\"\"\n",
    "\n",
    "import os\n",
    "import math\n",
    "import numpy as np\n",
    "import scipy.io.wavfile as wav\n",
    "import matplotlib.pyplot as plt\n",
    "from numpy.linalg import norm\n",
    "from scipy.special import jv\n",
    "\n",
    "def bessel(v, X):\n",
    "    return ((1j ** (-v)) * jv(v, 1j * X)).real\n",
    "\n",
    "\n",
    "def stft(x, n_fft=512, win_length=400, hop_length=160, window='hamming'):\n",
    "    if window == 'hanning':\n",
    "        window = np.hanning(win_length)\n",
    "    elif window == 'hamming':\n",
    "        window = np.hamming(win_length)\n",
    "    elif window == 'rectangle':\n",
    "        window = np.ones(win_length)\n",
    "    return np.array(\n",
    "        [np.fft.rfft(window * x[i:i + win_length], n_fft, axis=0) for i in range(0, len(x) - win_length, hop_length)])\n",
    "\n",
    "\n",
    "def estnoisem(pSpectrum, hop_length):\n",
    "    (nFrames, nFFT2) = np.shape(pSpectrum)  # number of frames and freq bins\n",
    "    x = np.array(np.zeros((nFrames, nFFT2)))  # initialize output arrays\n",
    "    xs = np.array(np.zeros((nFrames, nFFT2)))  # will hold std error in the future\n",
    "\n",
    "    # default algorithm constants\n",
    "    taca = 0.0449  # smoothing time constant for alpha_c = -hop_length/log(0.7) in equ (11)\n",
    "    tamax = 0.392  # max smoothing time constant in (3) = -hop_length/log(0.96)\n",
    "    taminh = 0.0133  # min smoothing time constant (upper limit) in (3) = -hop_length/log(0.3)\n",
    "    tpfall = 0.064  # time constant for P to fall (12)\n",
    "    tbmax = 0.0717  # max smoothing time constant in (20) = -hop_length/log(0.8)\n",
    "    qeqmin = 2.0  # minimum value of Qeq (23)\n",
    "    qeqmax = 14.0  # max value of Qeq per frame\n",
    "    av = 2.12  # fudge factor for bc calculation (23 + 13 lines)\n",
    "    td = 1.536  # time to take minimum over\n",
    "    nu = 8  # number of subwindows\n",
    "    qith = np.array([0.03, 0.05, 0.06, np.Inf], dtype=float)  # noise slope thresholds in dB/s\n",
    "    nsmdb = np.array([47, 31.4, 15.7, 4.1], dtype=float)  # maximum permitted +ve noise slope in dB/s\n",
    "\n",
    "    # derived algorithm constants\n",
    "    aca = np.exp(-hop_length / taca)  # smoothing constant for alpha_c in equ (11) = 0.7\n",
    "    acmax = aca  # min value of alpha_c = 0.7 in equ (11) also = 0.7\n",
    "    amax = np.exp(-hop_length / tamax)  # max smoothing constant in (3) = 0.96\n",
    "    aminh = np.exp(-hop_length / taminh)  # min smoothing constant (upper limit) in (3) = 0.3\n",
    "    bmax = np.exp(-hop_length / tbmax)  # max smoothing constant in (20) = 0.8\n",
    "    SNRexp = -hop_length / tpfall\n",
    "    nv = round(td / (hop_length * nu))  # length of each subwindow in frames\n",
    "\n",
    "    if nv < 4:  # algorithm doesn't work for miniscule frames\n",
    "        nv = 4\n",
    "        nu = round(td / (hop_length * nv))\n",
    "    nd = nu * nv  # length of total window in frames\n",
    "    (md, hd, dd) = mhvals(nd)  # calculate the constants M(D) and H(D) from Table III\n",
    "    (mv, hv, dv) = mhvals(nv)  # calculate the constants M(D) and H(D) from Table III\n",
    "    nsms = np.array([10]) ** (nsmdb * nv * hop_length / 10)  # [8 4 2 1.2] in paper\n",
    "    qeqimax = 1 / qeqmin  # maximum value of Qeq inverse (23)\n",
    "    qeqimin = 1 / qeqmax  # minumum value of Qeq per frame inverse\n",
    "\n",
    "    p = pSpectrum[0, :]  # smoothed power spectrum\n",
    "    ac = 1  # correction factor (9)\n",
    "    sn2 = p  # estimated noise power\n",
    "    pb = p  # smoothed noisy speech power (20)\n",
    "    pb2 = pb ** 2\n",
    "    pminu = p\n",
    "    actmin = np.array(np.ones(nFFT2) * np.Inf)  # Running minimum estimate\n",
    "    actminsub = np.array(np.ones(nFFT2) * np.Inf)  # sub-window minimum estimate\n",
    "    subwc = nv  # force a buffer switch on first loop\n",
    "    actbuf = np.array(np.ones((nu, nFFT2)) * np.Inf)  # buffer to store subwindow minima\n",
    "    ibuf = 0\n",
    "    lminflag = np.zeros(nFFT2)  # flag to remember local minimum\n",
    "\n",
    "    # loop for each frame\n",
    "    for t in range(0, nFrames):  # we use t instead of lambda in the paper\n",
    "        pSpectrum_t = pSpectrum[t, :]  # noise speech power spectrum\n",
    "        acb = (1 + (sum(p) / sum(pSpectrum_t) - 1) ** 2) ** (-1)  # alpha_c-bar(t)  (9)\n",
    "\n",
    "        tmp = np.array([acb])\n",
    "        tmp[tmp < acmax] = acmax\n",
    "        # max_complex(np.array([acb] ),np.array([acmax] ))\n",
    "        ac = aca * ac + (1 - aca) * tmp  # alpha_c(t)  (10)\n",
    "        ah = amax * ac * (1 + (p / sn2 - 1) ** 2) ** (-1)  # alpha_hat: smoothing factor per frequency (11)\n",
    "        SNR = sum(p) / sum(sn2)\n",
    "        ah = max_complex(ah,\n",
    "                         min_complex(np.array([aminh]), np.array([SNR ** SNRexp])))  # lower limit for alpha_hat (12)\n",
    "        p = ah * p + (1 - ah) * pSpectrum_t  # smoothed noisy speech power (3)\n",
    "        b = min_complex(ah ** 2,\n",
    "                        np.array([bmax]))  # smoothing constant for estimating periodogram variance (22 + 2 lines)\n",
    "        pb = b * pb + (1 - b) * p  # smoothed periodogram (20)\n",
    "        pb2 = b * pb2 + (1 - b) * p ** 2  # smoothed periodogram squared (21)\n",
    "        qeqi = max_complex(min_complex((pb2 - pb ** 2) / (2 * sn2 ** 2), np.array([qeqimax])),\n",
    "                           np.array([qeqimin / (t + 1)]))  # Qeq inverse (23)\n",
    "        qiav = sum(\n",
    "            qeqi) / nFFT2  # Average over all frequencies (23+12 lines) (ignore non-duplication of DC and nyquist terms)\n",
    "        bc = 1 + av * np.sqrt(qiav)  # bias correction factor (23+11 lines)\n",
    "        bmind = 1 + 2 * (nd - 1) * (1 - md) / (\n",
    "                    qeqi ** (-1) - 2 * md)  # we use the signalmplified form (17) instead of (15)\n",
    "        bminv = 1 + 2 * (nv - 1) * (1 - mv) / (qeqi ** (-1) - 2 * mv)  # same expressignalon but for sub windows\n",
    "        kmod = (bc * p * bmind) < actmin  # Frequency mask for new minimum\n",
    "\n",
    "        if any(kmod):\n",
    "            actmin[kmod] = bc * p[kmod] * bmind[kmod]\n",
    "            actminsub[kmod] = bc * p[kmod] * bminv[kmod]\n",
    "\n",
    "        if subwc > 1 and subwc < nv:  # middle of buffer - allow a local minimum\n",
    "            lminflag = np.logical_or(lminflag, kmod)  # potential local minimum frequency bins\n",
    "            pminu = min_complex(actminsub, pminu)\n",
    "            sn2 = pminu.copy()\n",
    "        else:\n",
    "            if subwc >= nv:  # end of buffer - do a buffer switch\n",
    "                ibuf = 1 + (ibuf % nu)  # increment actbuf storage pointer\n",
    "                actbuf[ibuf - 1, :] = actmin.copy()  # save sub-window minimum\n",
    "                pminu = min_complex_mat(actbuf)\n",
    "                i = np.nonzero(np.array(qiav) < qith)\n",
    "                nsm = nsms[i[0][0]]  # noise slope max\n",
    "                lmin = np.logical_and(\n",
    "                    np.logical_and(np.logical_and(lminflag, np.logical_not(kmod)), actminsub < (nsm * pminu)),\n",
    "                    actminsub > pminu)\n",
    "                if any(lmin):\n",
    "                    pminu[lmin] = actminsub[lmin]\n",
    "                    actbuf[:, lmin] = np.ones((nu, 1)) * pminu[lmin]\n",
    "                lminflag[:] = 0\n",
    "                actmin[:] = np.Inf\n",
    "                subwc = 0\n",
    "        subwc = subwc + 1\n",
    "        x[t, :] = sn2.copy()\n",
    "        qisq = np.sqrt(qeqi)\n",
    "        # empirical formula for standard error based on Fig 15 of [2]\n",
    "        xs[t, :] = sn2 * np.sqrt(\n",
    "            0.266 * (nd + 100 * qisq) * qisq / (1 + 0.005 * nd + 6 / nd) / (0.5 * qeqi ** (-1) + nd - 1))\n",
    "\n",
    "    return x\n",
    "\n",
    "\n",
    "def mhvals(*args):\n",
    "    nargin = len(args)\n",
    "\n",
    "    dmh = np.array([\n",
    "        [1, 0, 0],\n",
    "        [2, 0.26, 0.15],\n",
    "        [5, 0.48, 0.48],\n",
    "        [8, 0.58, 0.78],\n",
    "        [10, 0.61, 0.98],\n",
    "        [15, 0.668, 1.55],\n",
    "        [20, 0.705, 2],\n",
    "        [30, 0.762, 2.3],\n",
    "        [40, 0.8, 2.52],\n",
    "        [60, 0.841, 3.1],\n",
    "        [80, 0.865, 3.38],\n",
    "        [120, 0.89, 4.15],\n",
    "        [140, 0.9, 4.35],\n",
    "        [160, 0.91, 4.25],\n",
    "        [180, 0.92, 3.9],\n",
    "        [220, 0.93, 4.1],\n",
    "        [260, 0.935, 4.7],\n",
    "        [300, 0.94, 5]\n",
    "    ], dtype=float)\n",
    "\n",
    "    if nargin >= 1:\n",
    "        d = args[0]\n",
    "        i = np.nonzero(d <= dmh[:, 0])\n",
    "        if len(i) == 0:\n",
    "            i = np.shape(dmh)[0] - 1\n",
    "            j = i\n",
    "        else:\n",
    "            i = i[0][0]\n",
    "            j = i - 1\n",
    "        if d == dmh[i, 0]:\n",
    "            m = dmh[i, 1]\n",
    "            h = dmh[i, 2]\n",
    "        else:\n",
    "            qj = np.sqrt(dmh[i - 1, 0])  # interpolate usignalng sqrt(d)\n",
    "            qi = np.sqrt(dmh[i, 0])\n",
    "            q = np.sqrt(d)\n",
    "            h = dmh[i, 2] + (q - qi) * (dmh[j, 2] - dmh[i, 2]) / (qj - qi)\n",
    "            m = dmh[i, 1] + (qi * qj / q - qj) * (dmh[j, 1] - dmh[i, 1]) / (qi - qj)\n",
    "    else:\n",
    "        d = dmh[:, 0].copy()\n",
    "        m = dmh[:, 1].copy()\n",
    "        h = dmh[:, 2].copy()\n",
    "\n",
    "    return m, h, d\n",
    "\n",
    "\n",
    "def max_complex(a, b):\n",
    "    if len(a) == 1 and len(b) > 1:\n",
    "        a = np.tile(a, np.shape(b))\n",
    "    if len(b) == 1 and len(a) > 1:\n",
    "        b = np.tile(b, np.shape(a))\n",
    "\n",
    "    i = np.logical_or(np.iscomplex(a), np.iscomplex(b))\n",
    "\n",
    "    aa = a.copy()\n",
    "    bb = b.copy()\n",
    "\n",
    "    if any(i):\n",
    "        aa[i] = np.absolute(aa[i])\n",
    "        bb[i] = np.absolute(bb[i])\n",
    "    if a.dtype == 'complex' or b.dtype == 'complex':\n",
    "        cc = np.array(np.zeros(np.shape(a)))\n",
    "    else:\n",
    "        cc = np.array(np.zeros(np.shape(a)), dtype=float)\n",
    "\n",
    "    i = aa > bb\n",
    "    cc[i] = a[i]\n",
    "    cc[np.logical_not(i)] = b[np.logical_not(i)]\n",
    "\n",
    "    return cc\n",
    "\n",
    "\n",
    "def min_complex(a, b):\n",
    "\n",
    "    if len(a) == 1 and len(b) > 1:\n",
    "        a = np.tile(a, np.shape(b))\n",
    "    if len(b) == 1 and len(a) > 1:\n",
    "        b = np.tile(b, np.shape(a))\n",
    "\n",
    "    i = np.logical_or(np.iscomplex(a), np.iscomplex(b))\n",
    "\n",
    "    aa = a.copy()\n",
    "    bb = b.copy()\n",
    "\n",
    "    if any(i):\n",
    "        aa[i] = np.absolute(aa[i])\n",
    "        bb[i] = np.absolute(bb[i])\n",
    "\n",
    "    if a.dtype == 'complex' or b.dtype == 'complex':\n",
    "        cc = np.array(np.zeros(np.shape(a)))\n",
    "    else:\n",
    "        cc = np.array(np.zeros(np.shape(a)), dtype=float)\n",
    "\n",
    "    i = aa < bb\n",
    "    cc[i] = a[i]\n",
    "    cc[np.logical_not(i)] = b[np.logical_not(i)]\n",
    "\n",
    "    return cc\n",
    "\n",
    "\n",
    "def min_complex_mat(a):\n",
    "    s = np.shape(a)\n",
    "    m = np.array(np.zeros(s[1]))\n",
    "    for i in range(0, s[1]):\n",
    "        j = np.argmin(np.absolute(a[:, i]))\n",
    "        m[i] = a[j, i]\n",
    "    return m\n",
    "\n",
    "\n",
    "def VAD(signal, sr, nFFT=512, win_length=0.025, hop_length=0.01, theshold=0.7):\n",
    "    \"\"\"Voice Activity Detector\n",
    "    J. Sohn, N. S. Kim, and W. Sung. \"A statistical model-based voice activity detection,\" IEEE Signal Processing Letters, Vol. 6, issue 1, pp. 1-3, Jan. 1999.\n",
    "    Parameters\n",
    "    ----------\n",
    "    signal      : audio time series\n",
    "    sr    \t\t: sampling rate of `signal`\n",
    "    nFFT     \t: length of the FFT window\n",
    "    win_length \t: window size in sec\n",
    "    hop_length \t: hop size in sec\n",
    "    Returns\n",
    "    -------\n",
    "    probRatio   : frame-based voice activity probability sequence\n",
    "    \"\"\"\n",
    "    signal = signal.astype('float')\n",
    "\n",
    "    maxPosteriorSNR = 100\n",
    "    minPosteriorSNR = 0.0001\n",
    "\n",
    "    win_length_sample = round(win_length * sr)\n",
    "    hop_length_sample = round(hop_length * sr)\n",
    "\n",
    "    # the variance of the speech; lambda_x(k)\n",
    "    _stft = stft(signal, n_fft=nFFT, win_length=win_length_sample, hop_length=hop_length_sample)\n",
    "    pSpectrum = np.abs(_stft) ** 2\n",
    "\n",
    "    # estimate the variance of the noise using minimum statistics noise PSD estimation ; lambda_d(k).\n",
    "    estNoise = estnoisem(pSpectrum, hop_length)\n",
    "    estNoise = estNoise\n",
    "\n",
    "    aPosterioriSNR = pSpectrum / estNoise\n",
    "    aPosterioriSNR = aPosterioriSNR\n",
    "    aPosterioriSNR[aPosterioriSNR > maxPosteriorSNR] = maxPosteriorSNR\n",
    "    aPosterioriSNR[aPosterioriSNR < minPosteriorSNR] = minPosteriorSNR\n",
    "\n",
    "    a01 = hop_length / 0.05  # a01=P(signallence->speech)  hop_length/mean signallence length (50 ms)\n",
    "    a00 = 1 - a01  # a00=P(signallence->signallence)\n",
    "    a10 = hop_length / 0.1  # a10=P(speech->signallence) hop/mean talkspurt length (100 ms)\n",
    "    a11 = 1 - a10  # a11=P(speech->speech)\n",
    "\n",
    "    b01 = a01 / a00\n",
    "    b10 = a11 - a10 * a01 / a00\n",
    "\n",
    "    smoothFactorDD = 0.99\n",
    "    previousGainedaPosSNR = 1\n",
    "    (nFrames, nFFT2) = pSpectrum.shape\n",
    "    probRatio = np.zeros((nFrames, 1))\n",
    "    logGamma_frame = 0\n",
    "    for i in range(nFrames):\n",
    "        aPosterioriSNR_frame = aPosterioriSNR[i, :]\n",
    "\n",
    "        # operator [2](52)\n",
    "        oper = aPosterioriSNR_frame - 1\n",
    "        oper[oper < 0] = 0\n",
    "        smoothed_a_priori_SNR = smoothFactorDD * previousGainedaPosSNR + (1 - smoothFactorDD) * oper\n",
    "\n",
    "        # V for MMSE estimate ([2](8))\n",
    "        V = 0.1 * smoothed_a_priori_SNR * aPosterioriSNR_frame / (1 + smoothed_a_priori_SNR)\n",
    "\n",
    "        # geometric mean of log likelihood ratios for individual frequency band  [1](4)\n",
    "        logLRforFreqBins = 2 * V - np.log(smoothed_a_priori_SNR + 1)\n",
    "        # logLRforFreqBins=np.exp(smoothed_a_priori_SNR*aPosterioriSNR_frame/(1+smoothed_a_priori_SNR))/(1+smoothed_a_priori_SNR)\n",
    "        gMeanLogLRT = np.mean(logLRforFreqBins)\n",
    "        logGamma_frame = np.log(a10 / a01) + gMeanLogLRT + np.log(b01 + b10 / (a10 + a00 * np.exp(-logGamma_frame)))\n",
    "        probRatio[i] = 1 / (1 + np.exp(-logGamma_frame))\n",
    "\n",
    "        # Calculate Gain function which results from the MMSE [2](7).\n",
    "        gain = (math.gamma(1.5) * np.sqrt(V)) / aPosterioriSNR_frame * np.exp(-1 * V / 2) * (\n",
    "                    (1 + V) * bessel(0, V / 2) + V * bessel(1, V / 2))\n",
    "\n",
    "        previousGainedaPosSNR = (gain ** 2) * aPosterioriSNR_frame\n",
    "        probRatio[probRatio > theshold] = 1\n",
    "        probRatio[probRatio < theshold] = 0\n",
    "\n",
    "    arr = []\n",
    "    for idx, frame in enumerate(probRatio):\n",
    "        if idx == 1:\n",
    "            for _ in range(int(sr * (win_length - hop_length))):\n",
    "                arr.append(frame[0])\n",
    "            continue;\n",
    "        for _ in range(int(sr * hop_length)):\n",
    "            arr.append(frame[0])\n",
    "    l = len(signal) - len(arr)\n",
    "    return (arr + [0] * l)[:len(signal)], probRatio\n"
   ]
  },
  {
   "cell_type": "code",
   "execution_count": 25,
   "metadata": {},
   "outputs": [
    {
     "name": "stderr",
     "output_type": "stream",
     "text": [
      "<ipython-input-25-b75dc8491597>:4: WavFileWarning: Chunk (non-data) not understood, skipping it.\n",
      "  (sr, signal) = wav.read(path_wav)\n"
     ]
    },
    {
     "data": {
      "image/png": "[encoded data removed]",
      "text/plain": [
       "<Figure size 432x288 with 1 Axes>"
      ]
     },
     "metadata": {
      "needs_background": "light"
     },
     "output_type": "display_data"
    }
   ],
   "source": [
    "\n",
    "path_clean = 'datasets/SI1265_FJWB0_2.wav'\n",
    "\n",
    "path_wav = os.path.join(os.getcwd() , path_clean )\n",
    "(sr, signal) = wav.read(path_wav)\n",
    "\n",
    "vad, prob_ratio = VAD(signal, sr, nFFT=512, win_length=0.025, hop_length=0.01, theshold=0.99)\n",
    "\n",
    "#plt.subplot(2, 1, 1)\n",
    "#plt.plot(signal)\n",
    "#plt.title('Time Signal')\n",
    "\n",
    "plt.subplot(2, 1, 2)\n",
    "plt.plot(vad)\n",
    "\n",
    "\n",
    "#plt.tight_layout()\n",
    "plt.show()\n",
    "# 1 milisec - 16 fragments"
   ]
  },
  {
   "cell_type": "code",
   "execution_count": 26,
   "metadata": {},
   "outputs": [
    {
     "data": {
      "text/plain": [
       "49050"
      ]
     },
     "execution_count": 26,
     "metadata": {},
     "output_type": "execute_result"
    }
   ],
   "source": [
    "len(vad)"
   ]
  },
  {
   "cell_type": "code",
   "execution_count": 15,
   "metadata": {},
   "outputs": [
    {
     "data": {
      "text/plain": [
       "2160"
      ]
     },
     "execution_count": 15,
     "metadata": {},
     "output_type": "execute_result"
    }
   ],
   "source": [
    "np.argmax(vad)"
   ]
  },
  {
   "cell_type": "code",
   "execution_count": 24,
   "metadata": {},
   "outputs": [
    {
     "data": {
      "text/plain": [
       "(305, 1)"
      ]
     },
     "execution_count": 24,
     "metadata": {},
     "output_type": "execute_result"
    }
   ],
   "source": [
    "np.shape(prob_ratio)"
   ]
  },
  {
   "cell_type": "code",
   "execution_count": 27,
   "metadata": {},
   "outputs": [],
   "source": [
    "begin = -1\n",
    "end = -1\n",
    "speech_fragments = []\n",
    "flag = False # Начался ли отрезок с речью\n",
    "for ind, val in enumerate(vad):\n",
    "    if val == 1 and not flag:\n",
    "        begin = ind\n",
    "        flag = True\n",
    "    if val == 0 and flag:\n",
    "        speech_fragments.append((begin // 16, (ind - 1) // 16 ))\n",
    "        begin = -1\n",
    "        end = -1\n",
    "        flag = False\n",
    "        "
   ]
  },
  {
   "cell_type": "code",
   "execution_count": 28,
   "metadata": {},
   "outputs": [
    {
     "data": {
      "text/plain": [
       "[(135, 644),\n",
       " (665, 1184),\n",
       " (1285, 1294),\n",
       " (1325, 1624),\n",
       " (1665, 1724),\n",
       " (1795, 1814),\n",
       " (1885, 2034),\n",
       " (2065, 2144)]"
      ]
     },
     "execution_count": 28,
     "metadata": {},
     "output_type": "execute_result"
    }
   ],
   "source": [
    "speech_fragments"
   ]
  },
  {
   "cell_type": "code",
   "execution_count": 33,
   "metadata": {},
   "outputs": [
    {
     "name": "stdout",
     "output_type": "stream",
     "text": [
      "Requirement already up-to-date: pydub in /home/julia/.local/lib/python3.8/site-packages (0.24.1)\r\n"
     ]
    }
   ],
   "source": [
    "! pip3 install -U pydub"
   ]
  },
  {
   "cell_type": "code",
   "execution_count": 7,
   "metadata": {},
   "outputs": [],
   "source": [
    "import pydub"
   ]
  },
  {
   "cell_type": "code",
   "execution_count": 29,
   "metadata": {},
   "outputs": [],
   "source": [
    "from pydub import AudioSegment\n",
    "k = 0\n",
    "path_clean = 'datasets/SI1265_FJWB0_2.wav'\n",
    "path_wav = os.path.join(os.getcwd() , path_clean )\n",
    "path = f\"/home/julia/Загрузки/Voice_Activity_Detector-master/datasets/SI1265_FJWB0_2.wav\"\n",
    "sound = AudioSegment.from_file(path, format=\"wav\")\n",
    "combined_wav = AudioSegment.empty()\n",
    "for (begin, end) in speech_fragments:\n",
    "    speech = sound[begin:end]\n",
    "    combined_wav += speech\n",
    "    file_handle = speech.export(f\"/home/julia/vad_test/speech_{k}\", format=\"wav\")\n",
    "    k+=1\n",
    "file_handle_second = combined_wav.export(f\"/home/julia/vad_test/speech_main\", format=\"wav\")   "
   ]
  },
  {
   "cell_type": "code",
   "execution_count": 13,
   "metadata": {},
   "outputs": [
    {
     "data": {
      "text/plain": [
       "3066"
      ]
     },
     "execution_count": 13,
     "metadata": {},
     "output_type": "execute_result"
    }
   ],
   "source": [
    "len(sound)"
   ]
  },
  {
   "cell_type": "code",
   "execution_count": 21,
   "metadata": {},
   "outputs": [
    {
     "data": {
      "text/plain": [
       "<_io.BufferedRandom name='/home/julia/p1'>"
      ]
     },
     "execution_count": 21,
     "metadata": {},
     "output_type": "execute_result"
    }
   ],
   "source": [
    "path = f\"/home/julia/Загрузки/Voice_Activity_Detector-master/datasets/SI1265_FJWB0_2.wav\"\n",
    "sound = AudioSegment.from_file(path, format=\"wav\")\n",
    "len(sound)\n",
    "sound[:1000].export(\"/home/julia/p1\", format=\"wav\")"
   ]
  },
  {
   "cell_type": "code",
   "execution_count": null,
   "metadata": {},
   "outputs": [],
   "source": []
  }
 ],
 "metadata": {
  "kernelspec": {
   "display_name": "Python 3",
   "language": "python",
   "name": "python3"
  },
  "language_info": {
   "codemirror_mode": {
    "name": "ipython",
    "version": 3
   },
   "file_extension": ".py",
   "mimetype": "text/x-python",
   "name": "python",
   "nbconvert_exporter": "python",
   "pygments_lexer": "ipython3",
   "version": "3.8.5"
  }
 },
 "nbformat": 4,
 "nbformat_minor": 2
}
